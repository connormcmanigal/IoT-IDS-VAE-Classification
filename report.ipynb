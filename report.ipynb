{
 "cells": [
  {
   "cell_type": "markdown",
   "metadata": {},
   "source": [
    "# CS275P Final Project: Intrusion Detection System Analysis and Prediction\n",
    "\n",
    "#### Connor McManigal, Aaron Mui, Rishabh Verma, and Peyton Politewicz"
   ]
  },
  {
   "cell_type": "markdown",
   "metadata": {},
   "source": [
    "## Imports and Data Preprocessing"
   ]
  },
  {
   "cell_type": "code",
   "execution_count": 1,
   "metadata": {},
   "outputs": [],
   "source": [
    "import pandas as pd\n",
    "import numpy as np\n",
    "import seaborn as sns\n",
    "import matplotlib.pyplot as plt\n",
    "from ucimlrepo import fetch_ucirepo"
   ]
  },
  {
   "cell_type": "code",
   "execution_count": 27,
   "metadata": {},
   "outputs": [
    {
     "name": "stdout",
     "output_type": "stream",
     "text": [
      "Data Shape with Aggregates\n",
      "\n",
      "Rows: 123117\n",
      "Features: 83\n"
     ]
    }
   ],
   "source": [
    "rt_iot2022 = fetch_ucirepo(id=942) \n",
    "x = rt_iot2022.data.features \n",
    "y = rt_iot2022.data.targets \n",
    "\n",
    "print(\"Data Shape with Aggregates\\n\")\n",
    "print(\"Rows:\", x.shape[0])\n",
    "print(\"Features:\", x.shape[1])"
   ]
  },
  {
   "cell_type": "code",
   "execution_count": 28,
   "metadata": {},
   "outputs": [
    {
     "name": "stdout",
     "output_type": "stream",
     "text": [
      "Data Shape without Aggregates\n",
      "\n",
      "Rows: 123117\n",
      "Features: 47\n"
     ]
    },
    {
     "data": {
      "text/html": [
       "<div>\n",
       "<style scoped>\n",
       "    .dataframe tbody tr th:only-of-type {\n",
       "        vertical-align: middle;\n",
       "    }\n",
       "\n",
       "    .dataframe tbody tr th {\n",
       "        vertical-align: top;\n",
       "    }\n",
       "\n",
       "    .dataframe thead th {\n",
       "        text-align: right;\n",
       "    }\n",
       "</style>\n",
       "<table border=\"1\" class=\"dataframe\">\n",
       "  <thead>\n",
       "    <tr style=\"text-align: right;\">\n",
       "      <th></th>\n",
       "      <th>id.orig_p</th>\n",
       "      <th>id.resp_p</th>\n",
       "      <th>proto</th>\n",
       "      <th>service</th>\n",
       "      <th>flow_duration</th>\n",
       "      <th>fwd_pkts_tot</th>\n",
       "      <th>bwd_pkts_tot</th>\n",
       "      <th>fwd_data_pkts_tot</th>\n",
       "      <th>bwd_data_pkts_tot</th>\n",
       "      <th>fwd_pkts_per_sec</th>\n",
       "      <th>...</th>\n",
       "      <th>bwd_bulk_bytes</th>\n",
       "      <th>fwd_bulk_packets</th>\n",
       "      <th>bwd_bulk_packets</th>\n",
       "      <th>fwd_bulk_rate</th>\n",
       "      <th>bwd_bulk_rate</th>\n",
       "      <th>active.tot</th>\n",
       "      <th>idle.tot</th>\n",
       "      <th>fwd_init_window_size</th>\n",
       "      <th>bwd_init_window_size</th>\n",
       "      <th>fwd_last_window_size</th>\n",
       "    </tr>\n",
       "  </thead>\n",
       "  <tbody>\n",
       "    <tr>\n",
       "      <th>0</th>\n",
       "      <td>38667</td>\n",
       "      <td>1883</td>\n",
       "      <td>tcp</td>\n",
       "      <td>mqtt</td>\n",
       "      <td>32.011598</td>\n",
       "      <td>9</td>\n",
       "      <td>5</td>\n",
       "      <td>3</td>\n",
       "      <td>3</td>\n",
       "      <td>0.281148</td>\n",
       "      <td>...</td>\n",
       "      <td>0.0</td>\n",
       "      <td>0.0</td>\n",
       "      <td>0.0</td>\n",
       "      <td>0.0</td>\n",
       "      <td>0.0</td>\n",
       "      <td>2282414.913</td>\n",
       "      <td>29729182.96</td>\n",
       "      <td>64240</td>\n",
       "      <td>26847</td>\n",
       "      <td>502</td>\n",
       "    </tr>\n",
       "    <tr>\n",
       "      <th>1</th>\n",
       "      <td>51143</td>\n",
       "      <td>1883</td>\n",
       "      <td>tcp</td>\n",
       "      <td>mqtt</td>\n",
       "      <td>31.883584</td>\n",
       "      <td>9</td>\n",
       "      <td>5</td>\n",
       "      <td>3</td>\n",
       "      <td>3</td>\n",
       "      <td>0.282277</td>\n",
       "      <td>...</td>\n",
       "      <td>0.0</td>\n",
       "      <td>0.0</td>\n",
       "      <td>0.0</td>\n",
       "      <td>0.0</td>\n",
       "      <td>0.0</td>\n",
       "      <td>2028306.961</td>\n",
       "      <td>29855277.06</td>\n",
       "      <td>64240</td>\n",
       "      <td>26847</td>\n",
       "      <td>502</td>\n",
       "    </tr>\n",
       "    <tr>\n",
       "      <th>2</th>\n",
       "      <td>44761</td>\n",
       "      <td>1883</td>\n",
       "      <td>tcp</td>\n",
       "      <td>mqtt</td>\n",
       "      <td>32.124053</td>\n",
       "      <td>9</td>\n",
       "      <td>5</td>\n",
       "      <td>3</td>\n",
       "      <td>3</td>\n",
       "      <td>0.280164</td>\n",
       "      <td>...</td>\n",
       "      <td>0.0</td>\n",
       "      <td>0.0</td>\n",
       "      <td>0.0</td>\n",
       "      <td>0.0</td>\n",
       "      <td>0.0</td>\n",
       "      <td>2281903.982</td>\n",
       "      <td>29842149.02</td>\n",
       "      <td>64240</td>\n",
       "      <td>26847</td>\n",
       "      <td>502</td>\n",
       "    </tr>\n",
       "    <tr>\n",
       "      <th>3</th>\n",
       "      <td>60893</td>\n",
       "      <td>1883</td>\n",
       "      <td>tcp</td>\n",
       "      <td>mqtt</td>\n",
       "      <td>31.961063</td>\n",
       "      <td>9</td>\n",
       "      <td>5</td>\n",
       "      <td>3</td>\n",
       "      <td>3</td>\n",
       "      <td>0.281593</td>\n",
       "      <td>...</td>\n",
       "      <td>0.0</td>\n",
       "      <td>0.0</td>\n",
       "      <td>0.0</td>\n",
       "      <td>0.0</td>\n",
       "      <td>0.0</td>\n",
       "      <td>2047288.179</td>\n",
       "      <td>29913774.97</td>\n",
       "      <td>64240</td>\n",
       "      <td>26847</td>\n",
       "      <td>502</td>\n",
       "    </tr>\n",
       "    <tr>\n",
       "      <th>4</th>\n",
       "      <td>51087</td>\n",
       "      <td>1883</td>\n",
       "      <td>tcp</td>\n",
       "      <td>mqtt</td>\n",
       "      <td>31.902362</td>\n",
       "      <td>9</td>\n",
       "      <td>5</td>\n",
       "      <td>3</td>\n",
       "      <td>3</td>\n",
       "      <td>0.282111</td>\n",
       "      <td>...</td>\n",
       "      <td>0.0</td>\n",
       "      <td>0.0</td>\n",
       "      <td>0.0</td>\n",
       "      <td>0.0</td>\n",
       "      <td>0.0</td>\n",
       "      <td>2087656.975</td>\n",
       "      <td>29814704.90</td>\n",
       "      <td>64240</td>\n",
       "      <td>26847</td>\n",
       "      <td>502</td>\n",
       "    </tr>\n",
       "  </tbody>\n",
       "</table>\n",
       "<p>5 rows × 47 columns</p>\n",
       "</div>"
      ],
      "text/plain": [
       "   id.orig_p  id.resp_p proto service  flow_duration  fwd_pkts_tot  \\\n",
       "0      38667       1883   tcp    mqtt      32.011598             9   \n",
       "1      51143       1883   tcp    mqtt      31.883584             9   \n",
       "2      44761       1883   tcp    mqtt      32.124053             9   \n",
       "3      60893       1883   tcp    mqtt      31.961063             9   \n",
       "4      51087       1883   tcp    mqtt      31.902362             9   \n",
       "\n",
       "   bwd_pkts_tot  fwd_data_pkts_tot  bwd_data_pkts_tot  fwd_pkts_per_sec  ...  \\\n",
       "0             5                  3                  3          0.281148  ...   \n",
       "1             5                  3                  3          0.282277  ...   \n",
       "2             5                  3                  3          0.280164  ...   \n",
       "3             5                  3                  3          0.281593  ...   \n",
       "4             5                  3                  3          0.282111  ...   \n",
       "\n",
       "   bwd_bulk_bytes  fwd_bulk_packets  bwd_bulk_packets  fwd_bulk_rate  \\\n",
       "0             0.0               0.0               0.0            0.0   \n",
       "1             0.0               0.0               0.0            0.0   \n",
       "2             0.0               0.0               0.0            0.0   \n",
       "3             0.0               0.0               0.0            0.0   \n",
       "4             0.0               0.0               0.0            0.0   \n",
       "\n",
       "   bwd_bulk_rate   active.tot     idle.tot  fwd_init_window_size  \\\n",
       "0            0.0  2282414.913  29729182.96                 64240   \n",
       "1            0.0  2028306.961  29855277.06                 64240   \n",
       "2            0.0  2281903.982  29842149.02                 64240   \n",
       "3            0.0  2047288.179  29913774.97                 64240   \n",
       "4            0.0  2087656.975  29814704.90                 64240   \n",
       "\n",
       "   bwd_init_window_size  fwd_last_window_size  \n",
       "0                 26847                   502  \n",
       "1                 26847                   502  \n",
       "2                 26847                   502  \n",
       "3                 26847                   502  \n",
       "4                 26847                   502  \n",
       "\n",
       "[5 rows x 47 columns]"
      ]
     },
     "execution_count": 28,
     "metadata": {},
     "output_type": "execute_result"
    }
   ],
   "source": [
    "X = x.filter(regex='^((?!max|min|avg|std).)*$')\n",
    "\n",
    "print(\"Data Shape without Aggregates\\n\")\n",
    "print(\"Rows:\", X.shape[0])\n",
    "print(\"Features:\", X.shape[1])\n",
    "X.head()"
   ]
  },
  {
   "cell_type": "markdown",
   "metadata": {},
   "source": [
    "## Exploratory Data Analysis"
   ]
  },
  {
   "cell_type": "code",
   "execution_count": 29,
   "metadata": {},
   "outputs": [
    {
     "data": {
      "text/plain": [
       "Attack_type               \n",
       "DOS_SYN_Hping                 94659\n",
       "Thing_Speak                    8108\n",
       "ARP_poisioning                 7750\n",
       "MQTT_Publish                   4146\n",
       "NMAP_UDP_SCAN                  2590\n",
       "NMAP_XMAS_TREE_SCAN            2010\n",
       "NMAP_OS_DETECTION              2000\n",
       "NMAP_TCP_scan                  1002\n",
       "DDOS_Slowloris                  534\n",
       "Wipro_bulb                      253\n",
       "Metasploit_Brute_Force_SSH       37\n",
       "NMAP_FIN_SCAN                    28\n",
       "Name: count, dtype: int64"
      ]
     },
     "execution_count": 29,
     "metadata": {},
     "output_type": "execute_result"
    }
   ],
   "source": [
    "# get counts of targets\n",
    "y.value_counts()"
   ]
  },
  {
   "cell_type": "code",
   "execution_count": 34,
   "metadata": {},
   "outputs": [
    {
     "data": {
      "text/plain": [
       "proto\n",
       "tcp     110427\n",
       "udp      12633\n",
       "icmp        57\n",
       "Name: count, dtype: int64"
      ]
     },
     "execution_count": 34,
     "metadata": {},
     "output_type": "execute_result"
    }
   ],
   "source": [
    "# get counts of protocols\n",
    "X['proto'].value_counts()"
   ]
  },
  {
   "cell_type": "code",
   "execution_count": 35,
   "metadata": {},
   "outputs": [
    {
     "data": {
      "text/plain": [
       "service\n",
       "-         102861\n",
       "dns         9753\n",
       "mqtt        4132\n",
       "http        3464\n",
       "ssl         2663\n",
       "ntp          121\n",
       "dhcp          50\n",
       "irc           43\n",
       "ssh           28\n",
       "radius         2\n",
       "Name: count, dtype: int64"
      ]
     },
     "execution_count": 35,
     "metadata": {},
     "output_type": "execute_result"
    }
   ],
   "source": [
    "# get counts of network services\n",
    "X['service'].value_counts()"
   ]
  },
  {
   "cell_type": "code",
   "execution_count": null,
   "metadata": {},
   "outputs": [],
   "source": []
  },
  {
   "cell_type": "markdown",
   "metadata": {},
   "source": [
    "## VAE "
   ]
  },
  {
   "cell_type": "code",
   "execution_count": null,
   "metadata": {},
   "outputs": [],
   "source": []
  },
  {
   "cell_type": "code",
   "execution_count": null,
   "metadata": {},
   "outputs": [],
   "source": []
  },
  {
   "cell_type": "code",
   "execution_count": null,
   "metadata": {},
   "outputs": [],
   "source": []
  }
 ],
 "metadata": {
  "kernelspec": {
   "display_name": "Python 3",
   "language": "python",
   "name": "python3"
  },
  "language_info": {
   "codemirror_mode": {
    "name": "ipython",
    "version": 3
   },
   "file_extension": ".py",
   "mimetype": "text/x-python",
   "name": "python",
   "nbconvert_exporter": "python",
   "pygments_lexer": "ipython3",
   "version": "3.9.6"
  }
 },
 "nbformat": 4,
 "nbformat_minor": 2
}
