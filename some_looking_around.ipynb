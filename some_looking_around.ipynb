{
 "cells": [
  {
   "cell_type": "code",
   "execution_count": 33,
   "metadata": {},
   "outputs": [],
   "source": [
    "import numpy as np\n",
    "import pandas as pd\n",
    "import matplotlib.pyplot as plt\n",
    "import seaborn as sns\n",
    "import torch\n",
    "from RVAE import RVAE, beta_elbow\n",
    "from datasets import load_dataset\n",
    "import torch.optim as optim\n",
    "import torch.utils.data"
   ]
  },
  {
   "cell_type": "code",
   "execution_count": 25,
   "metadata": {},
   "outputs": [],
   "source": [
    "# full_data=pd.concat([X2,y], axis=1)\n",
    "# values_to_match=['ARP_poisioning', 'DDOS_Slowloris', 'DOS_SYN_Hping',\n",
    "#                  'Metasploit_Brute_Force_SSH', 'NMAP_FIN_SCAN',\n",
    "#                  'NMAP_OS_DETECTION', 'NMAP_TCP_scan', 'NMAP_UDP_SCAN',\n",
    "#                  'NMAP_XMAS_TREE_SCAN']\n",
    "# anomalous_data=full_data[full_data['Attack_type'].isin(values_to_match)]\n",
    "# anomalous_data=anomalous_data.iloc[:, :-1]\n",
    "# # anomalous_data\n",
    "# print(anomalous_data[anomalous_data.notna().any(axis=1)].shape, anomalous_data.shape)\n",
    "# anomalous_data"
   ]
  },
  {
   "cell_type": "code",
   "execution_count": 34,
   "metadata": {},
   "outputs": [],
   "source": [
    "dataset = load_dataset(\"aamui/rt_iot_2022\")"
   ]
  },
  {
   "cell_type": "code",
   "execution_count": 35,
   "metadata": {},
   "outputs": [],
   "source": [
    "dataset_full=dataset['train'].to_pandas().filter(regex='^((?!max|min|avg|std).)*$')\n",
    "normal_types = ['Wipro_bulb', 'Thing_Speak', 'MQTT_Publish', 'Alexa']\n",
    "attack_types = [\n",
    "    'DOS_SYN_Hping', 'ARP_poisioning', 'NMAP_UDP_SCAN', 'NMAP_XMAS_TREE_SCAN', 'NMAP_OS_DETECTION',\n",
    "    'NMAP_TCP_scan', 'DDOS_Slowloris', 'Metasploit_Brute_Force_SSH','NMAP_FIN_SCAN'\n",
    "]\n",
    "\n",
    "dataset_full['label'] = dataset_full['Attack_type'].apply(lambda x: 0 if x in normal_types else 1)\n",
    "targets=dataset_full['label']\n",
    "X=dataset_full.drop(['Attack_type', 'label'], axis=1)\n",
    "\n",
    "# droped id cols + proto, service\n",
    "X=X.drop(X.columns[[0,1,2,3]], axis=1)"
   ]
  },
  {
   "cell_type": "code",
   "execution_count": 46,
   "metadata": {},
   "outputs": [],
   "source": [
    "# https://arxiv.org/pdf/2006.08204\n",
    "# def beta_elbow(x_hat, x, beta, N, z_mu, z_sigma):\n",
    "#     # this loss assumes that all columns are continuous which i believe is true\n",
    "#     beta_cross_entropy=-((beta+1)/beta) * torch.mean(torch.exp((-0.5 * z_sigma * beta) * torch.sum((x_hat - x)**2))-1)\n",
    "#     kl_div=torch.mean(0.5 * torch.sum(1 + 2 * torch.log(z_sigma) - (z_mu**2)  - (z_sigma**2), -1))\n",
    "#     return beta_cross_entropy + kl_div"
   ]
  },
  {
   "cell_type": "code",
   "execution_count": 36,
   "metadata": {},
   "outputs": [],
   "source": [
    "def plot_loss(loss):\n",
    "    epoch = len(loss)\n",
    "    plt.plot(1+np.arange(epoch), loss, marker='o', color='red')\n",
    "    plt.ylim(bottom=0)\n",
    "    plt.title('ELBO Loss during training')\n",
    "    plt.xlabel('Epoch')\n",
    "    plt.ylabel('ELBO Loss')\n",
    "    plt.grid()"
   ]
  },
  {
   "cell_type": "code",
   "execution_count": 37,
   "metadata": {},
   "outputs": [],
   "source": [
    "train=torch.utils.data.TensorDataset(torch.from_numpy(X.values))\n",
    "trian_loader=torch.utils.data.DataLoader(train, batch_size=64, shuffle=True)"
   ]
  },
  {
   "cell_type": "code",
   "execution_count": 38,
   "metadata": {},
   "outputs": [
    {
     "ename": "AttributeError",
     "evalue": "'super' object has no attribute '__innit__'",
     "output_type": "error",
     "traceback": [
      "\u001b[0;31m---------------------------------------------------------------------------\u001b[0m",
      "\u001b[0;31mAttributeError\u001b[0m                            Traceback (most recent call last)",
      "Cell \u001b[0;32mIn[38], line 1\u001b[0m\n\u001b[0;32m----> 1\u001b[0m rvae\u001b[38;5;241m=\u001b[39m\u001b[43mRVAE\u001b[49m\u001b[43m(\u001b[49m\u001b[43mlatent_dim\u001b[49m\u001b[38;5;241;43m=\u001b[39;49m\u001b[38;5;241;43m5\u001b[39;49m\u001b[43m,\u001b[49m\u001b[43m \u001b[49m\u001b[43min_out_dim\u001b[49m\u001b[38;5;241;43m=\u001b[39;49m\u001b[43mX\u001b[49m\u001b[38;5;241;43m.\u001b[39;49m\u001b[43mshape\u001b[49m\u001b[43m[\u001b[49m\u001b[38;5;241;43m1\u001b[39;49m\u001b[43m]\u001b[49m\u001b[43m,\u001b[49m\u001b[43m \u001b[49m\u001b[43mbeta\u001b[49m\u001b[38;5;241;43m=\u001b[39;49m\u001b[38;5;241;43m1e-3\u001b[39;49m\u001b[43m)\u001b[49m\n\u001b[1;32m      2\u001b[0m optimizer\u001b[38;5;241m=\u001b[39moptim\u001b[38;5;241m.\u001b[39mAdam(rvae\u001b[38;5;241m.\u001b[39mparameters(), \u001b[38;5;241m1e-3\u001b[39m)\n\u001b[1;32m      3\u001b[0m beta_losses\u001b[38;5;241m=\u001b[39m[]\n",
      "File \u001b[0;32m~/Desktop/uci_mds/cs275/IoT-IDS-VAE-Classification/RVAE.py:36\u001b[0m, in \u001b[0;36mRVAE.__init__\u001b[0;34m(self, latent_dim, in_out_dim, beta, hidden_dim)\u001b[0m\n\u001b[1;32m     35\u001b[0m \u001b[38;5;28;01mdef\u001b[39;00m \u001b[38;5;21m__init__\u001b[39m(\u001b[38;5;28mself\u001b[39m, latent_dim, in_out_dim, hidden_dim\u001b[38;5;241m=\u001b[39m\u001b[38;5;241m256\u001b[39m):\n\u001b[0;32m---> 36\u001b[0m     \u001b[38;5;28;43msuper\u001b[39;49m\u001b[43m(\u001b[49m\u001b[43mRVAE\u001b[49m\u001b[43m,\u001b[49m\u001b[38;5;28;43mself\u001b[39;49m\u001b[43m)\u001b[49m\u001b[38;5;241;43m.\u001b[39;49m\u001b[43m__innit__\u001b[49m()\n\u001b[1;32m     37\u001b[0m     \u001b[38;5;28mself\u001b[39m\u001b[38;5;241m.\u001b[39mencoder\u001b[38;5;241m=\u001b[39mEncoder(in_out_dim, latent_dim, hidden_dim\u001b[38;5;241m=\u001b[39mhidden_dim)\n\u001b[1;32m     38\u001b[0m     \u001b[38;5;28mself\u001b[39m\u001b[38;5;241m.\u001b[39mdecoder\u001b[38;5;241m=\u001b[39mDecoder(in_out_dim, latent_dim, hidden_dim\u001b[38;5;241m=\u001b[39mhidden_dim)\n",
      "\u001b[0;31mAttributeError\u001b[0m: 'super' object has no attribute '__innit__'"
     ]
    }
   ],
   "source": [
    "rvae=RVAE(latent_dim=5, in_out_dim=X.shape[1], beta=1e-3)\n",
    "optimizer=optim.Adam(rvae.parameters(), 1e-3)\n",
    "beta_losses=[]\n",
    "epochs=40\n",
    "\n",
    "for epoch in range(epochs):\n",
    "    for data in trian_loader:\n",
    "        data=data[0]\n",
    "        optimizer.zero_grad()\n",
    "        recon, mu, sigma=rvae(data)\n",
    "        loss=beta_elbow(recon, data, 1e-3, mu, sigma)\n",
    "        loss.backward()\n",
    "        optimizer.step()\n",
    "    beta_losses.append(loss.item())\n",
    "\n",
    "    clear_output(wait=True)\n",
    "    plt.figure(figsize=(10,4))\n",
    "    plot_loss(beta_losses)\n",
    "    plt.xlim(right=40)\n",
    "    plt.show()\n",
    "\n",
    "    print(f'Epoch [{epoch + 1}/{40}], ELBO Loss: {loss.item():.4f}')\n"
   ]
  }
 ],
 "metadata": {
  "kernelspec": {
   "display_name": "Python 3",
   "language": "python",
   "name": "python3"
  },
  "language_info": {
   "codemirror_mode": {
    "name": "ipython",
    "version": 3
   },
   "file_extension": ".py",
   "mimetype": "text/x-python",
   "name": "python",
   "nbconvert_exporter": "python",
   "pygments_lexer": "ipython3",
   "version": "3.11.9"
  },
  "orig_nbformat": 4
 },
 "nbformat": 4,
 "nbformat_minor": 2
}
