{
 "cells": [
  {
   "cell_type": "code",
   "execution_count": 44,
   "metadata": {},
   "outputs": [],
   "source": [
    "import numpy as np\n",
    "import pandas as pd\n",
    "import matplotlib.pyplot as plt\n",
    "import seaborn as sns\n",
    "import torch\n",
    "# from ucimlrepo import fetch_ucirepo "
   ]
  },
  {
   "cell_type": "code",
   "execution_count": 25,
   "metadata": {},
   "outputs": [],
   "source": [
    "# full_data=pd.concat([X2,y], axis=1)\n",
    "# values_to_match=['ARP_poisioning', 'DDOS_Slowloris', 'DOS_SYN_Hping',\n",
    "#                  'Metasploit_Brute_Force_SSH', 'NMAP_FIN_SCAN',\n",
    "#                  'NMAP_OS_DETECTION', 'NMAP_TCP_scan', 'NMAP_UDP_SCAN',\n",
    "#                  'NMAP_XMAS_TREE_SCAN']\n",
    "# anomalous_data=full_data[full_data['Attack_type'].isin(values_to_match)]\n",
    "# anomalous_data=anomalous_data.iloc[:, :-1]\n",
    "# # anomalous_data\n",
    "# print(anomalous_data[anomalous_data.notna().any(axis=1)].shape, anomalous_data.shape)\n",
    "# anomalous_data"
   ]
  },
  {
   "cell_type": "code",
   "execution_count": 7,
   "metadata": {},
   "outputs": [
    {
     "data": {
      "application/vnd.jupyter.widget-view+json": {
       "model_id": "78254f7018b742d79dee76bf83165e5e",
       "version_major": 2,
       "version_minor": 0
      },
      "text/plain": [
       "Downloading data:   0%|          | 0.00/109M [00:00<?, ?B/s]"
      ]
     },
     "metadata": {},
     "output_type": "display_data"
    },
    {
     "data": {
      "application/vnd.jupyter.widget-view+json": {
       "model_id": "df62738ceb314781a7e5b2bc8bd2f5c3",
       "version_major": 2,
       "version_minor": 0
      },
      "text/plain": [
       "Generating train split: 0 examples [00:00, ? examples/s]"
      ]
     },
     "metadata": {},
     "output_type": "display_data"
    }
   ],
   "source": [
    "from datasets import load_dataset\n",
    "dataset = load_dataset(\"aamui/rt_iot_2022\")"
   ]
  },
  {
   "cell_type": "code",
   "execution_count": 40,
   "metadata": {},
   "outputs": [],
   "source": [
    "dataset_full=dataset['train'].to_pandas().filter(regex='^((?!max|min|avg|std).)*$')\n",
    "targets=dataset_full['Attack_type']\n",
    "X=dataset_full.drop('Attack_type', axis=1)\n",
    "\n",
    "# droped id cols + proto, service\n",
    "X=X.drop(X.columns[[0,1,2,3]], axis=1)"
   ]
  },
  {
   "cell_type": "code",
   "execution_count": 43,
   "metadata": {},
   "outputs": [
    {
     "name": "stdout",
     "output_type": "stream",
     "text": [
      "flow_duration               float64\n",
      "fwd_pkts_tot                  int64\n",
      "bwd_pkts_tot                  int64\n",
      "fwd_data_pkts_tot             int64\n",
      "bwd_data_pkts_tot             int64\n",
      "fwd_pkts_per_sec            float64\n",
      "bwd_pkts_per_sec            float64\n",
      "flow_pkts_per_sec           float64\n",
      "down_up_ratio               float64\n",
      "fwd_header_size_tot           int64\n",
      "bwd_header_size_tot           int64\n",
      "flow_FIN_flag_count           int64\n",
      "flow_SYN_flag_count           int64\n",
      "flow_RST_flag_count           int64\n",
      "fwd_PSH_flag_count            int64\n",
      "bwd_PSH_flag_count            int64\n",
      "flow_ACK_flag_count           int64\n",
      "fwd_URG_flag_count            int64\n",
      "bwd_URG_flag_count            int64\n",
      "flow_CWR_flag_count           int64\n",
      "flow_ECE_flag_count           int64\n",
      "fwd_pkts_payload.tot        float64\n",
      "bwd_pkts_payload.tot        float64\n",
      "flow_pkts_payload.tot       float64\n",
      "fwd_iat.tot                 float64\n",
      "bwd_iat.tot                 float64\n",
      "flow_iat.tot                float64\n",
      "payload_bytes_per_second    float64\n",
      "fwd_subflow_pkts            float64\n",
      "bwd_subflow_pkts            float64\n",
      "fwd_subflow_bytes           float64\n",
      "bwd_subflow_bytes           float64\n",
      "fwd_bulk_bytes              float64\n",
      "bwd_bulk_bytes              float64\n",
      "fwd_bulk_packets            float64\n",
      "bwd_bulk_packets            float64\n",
      "fwd_bulk_rate               float64\n",
      "bwd_bulk_rate               float64\n",
      "active.tot                  float64\n",
      "idle.tot                    float64\n",
      "fwd_init_window_size          int64\n",
      "bwd_init_window_size          int64\n",
      "fwd_last_window_size          int64\n",
      "dtype: object\n"
     ]
    }
   ],
   "source": [
    "print(X.dtypes)"
   ]
  },
  {
   "cell_type": "code",
   "execution_count": 45,
   "metadata": {},
   "outputs": [],
   "source": [
    "def beta_elbow(x_hat, x, beta, N, z_mu, z_sigma):\n",
    "    # this loss assumes that all columns are continuous which i believe is true\n",
    "    beta_cross_entropy=-((beta+1)/beta) * torch.mean(torch.exp((-0.5 * z_sigma * beta) * torch.sum((x_hat - x)**2))-1)\n",
    "    kl_div=torch.mean(0.5 * torch.sum(1 + 2 * torch.log(z_sigma) - (z_mu**2)  - (z_sigma**2), -1))\n",
    "    return beta_cross_entropy + kl_div"
   ]
  }
 ],
 "metadata": {
  "kernelspec": {
   "display_name": "Python 3",
   "language": "python",
   "name": "python3"
  },
  "language_info": {
   "codemirror_mode": {
    "name": "ipython",
    "version": 3
   },
   "file_extension": ".py",
   "mimetype": "text/x-python",
   "name": "python",
   "nbconvert_exporter": "python",
   "pygments_lexer": "ipython3",
   "version": "3.11.9"
  },
  "orig_nbformat": 4
 },
 "nbformat": 4,
 "nbformat_minor": 2
}
