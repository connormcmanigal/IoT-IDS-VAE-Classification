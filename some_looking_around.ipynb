{
 "cells": [
  {
   "cell_type": "code",
   "execution_count": 1,
   "metadata": {},
   "outputs": [],
   "source": [
    "import numpy as np\n",
    "import pandas as pd\n",
    "import matplotlib.pyplot as plt\n",
    "import seaborn as sns\n",
    "from sklearn.preprocessing import MinMaxScaler\n",
    "import torch\n",
    "from VAE1_mix import VAE3, combo_elbo\n",
    "from datasets import load_dataset\n",
    "import torch.optim as optim\n",
    "import torch.utils.data\n",
    "from IPython.display import clear_output\n",
    "from sklearn.preprocessing import OneHotEncoder, StandardScaler, MinMaxScaler, LabelEncoder\n",
    "from sklearn.compose import ColumnTransformer\n",
    "from sklearn.model_selection import train_test_split"
   ]
  },
  {
   "cell_type": "code",
   "execution_count": 2,
   "metadata": {},
   "outputs": [],
   "source": [
    "# full_data=pd.concat([X2,y], axis=1)\n",
    "# values_to_match=['ARP_poisioning', 'DDOS_Slowloris', 'DOS_SYN_Hping',\n",
    "#                  'Metasploit_Brute_Force_SSH', 'NMAP_FIN_SCAN',\n",
    "#                  'NMAP_OS_DETECTION', 'NMAP_TCP_scan', 'NMAP_UDP_SCAN',\n",
    "#                  'NMAP_XMAS_TREE_SCAN']\n",
    "# anomalous_data=full_data[full_data['Attack_type'].isin(values_to_match)]\n",
    "# anomalous_data=anomalous_data.iloc[:, :-1]\n",
    "# # anomalous_data\n",
    "# print(anomalous_data[anomalous_data.notna().any(axis=1)].shape, anomalous_data.shape)\n",
    "# anomalous_data"
   ]
  },
  {
   "cell_type": "code",
   "execution_count": 3,
   "metadata": {},
   "outputs": [],
   "source": [
    "dataset = load_dataset(\"aamui/rt_iot_2022\")"
   ]
  },
  {
   "cell_type": "code",
   "execution_count": 4,
   "metadata": {},
   "outputs": [],
   "source": [
    "df=dataset['train'].to_pandas().filter(regex='^((?!max|min|avg|std).)*$')\n",
    "\n",
    "df = df.drop(columns = ['id.orig_p', 'id.resp_p']) # drop IDs\n",
    "\n",
    "# one-hot encode categoricals and standardize numerics\n",
    "cat_cols = ['proto', 'service']\n",
    "quant_cols = df.select_dtypes(include=['int64', 'float64']).columns.tolist()\n",
    "\n",
    "preprocessor = ColumnTransformer(\n",
    "    transformers = [\n",
    "        ('quant', StandardScaler(), quant_cols),\n",
    "        ('cat', OneHotEncoder(), cat_cols)\n",
    "    ], \n",
    "    remainder = 'passthrough')\n",
    "\n",
    "df_processed = preprocessor.fit_transform(df)\n",
    "column_names = quant_cols + preprocessor.named_transformers_['cat'].get_feature_names_out(cat_cols).tolist()\n",
    "column_names += df.columns.drop(quant_cols + cat_cols).tolist()\n",
    "df = pd.DataFrame(df_processed, columns = column_names)\n",
    "\n",
    "# print('Final preprocessed data shape:', df.shape)\n",
    "\n",
    "def binary_label_convert(data):\n",
    "    normal_types = ['Wipro_bulb', 'Thing_Speak', 'MQTT_Publish', 'Alexa']\n",
    "    data['Binary_label'] = data['Attack_type'].apply(lambda x: 0 if x in normal_types else 1)\n",
    "    return data\n",
    "\n",
    "df = binary_label_convert(df)\n",
    "\n",
    "# performing splits for train, cv, test\n",
    "normal = df[df['Binary_label'] == 0]\n",
    "attack = df[df['Binary_label'] == 1]\n",
    "\n",
    "# normal data: 70% for training and 30% for testing/validation\n",
    "train_data, temp_normal = train_test_split(normal, test_size = 0.3, random_state = 21, stratify = normal['Attack_type'])\n",
    "# further split normal data: 15% for cv and 15% for test\n",
    "validate_normal, test_normal = train_test_split(temp_normal, test_size = 0.5, random_state = 21)\n",
    "# attack data: 50% for cv, 50% for test\n",
    "validate_attack, test_attack = train_test_split(attack, test_size = 0.5, random_state = 21)\n",
    "\n",
    "# combine\n",
    "cv_data = pd.concat([validate_normal, validate_attack])\n",
    "test_data = pd.concat([test_normal, test_attack])\n",
    "\n",
    "# final split variables\n",
    "X_train = train_data.drop(columns = ['Attack_type', 'Binary_label'])\n",
    "y_train = pd.DataFrame(train_data['Binary_label'])\n",
    "type_train = train_data[[\"Attack_type\"]]\n",
    "\n",
    "X_cv = cv_data.drop(columns = ['Attack_type', 'Binary_label'])\n",
    "y_cv = pd.DataFrame(cv_data['Binary_label'])\n",
    "type_cv = cv_data[[\"Attack_type\"]]\n",
    "\n",
    "X_test = test_data.drop(columns = ['Attack_type', 'Binary_label'])\n",
    "y_test = pd.DataFrame(test_data['Binary_label'])\n",
    "type_test = test_data[[\"Attack_type\"]]\n",
    "\n",
    "# convert to tensors\n",
    "X_train = X_train.astype('float32')\n",
    "X_train = torch.tensor(X_train.values, dtype = torch.float32)\n",
    "y_train = torch.tensor(y_train.values, dtype = torch.float32)\n",
    "\n",
    "X_cv = X_cv.astype('float32')\n",
    "X_cv = torch.tensor(X_cv.values, dtype = torch.float32)\n",
    "y_cv = torch.tensor(y_cv.values, dtype = torch.float32)\n",
    "\n",
    "X_test = X_test.astype('float32')\n",
    "X_test = torch.tensor(X_test.values, dtype = torch.float32)\n",
    "y_test = torch.tensor(y_test.values, dtype = torch.float32)\n",
    "\n"
   ]
  },
  {
   "cell_type": "code",
   "execution_count": 5,
   "metadata": {},
   "outputs": [],
   "source": [
    "# https://arxiv.org/pdf/2006.08204\n",
    "# def beta_elbow(x_hat, x, beta, N, z_mu, z_sigma):\n",
    "#     # this loss assumes that all columns are continuous which i believe is true\n",
    "#     beta_cross_entropy=-((beta+1)/beta) * torch.mean(torch.exp((-0.5 * z_sigma * beta) * torch.sum((x_hat - x)**2))-1)\n",
    "#     kl_div=torch.mean(0.5 * torch.sum(1 + 2 * torch.log(z_sigma) - (z_mu**2)  - (z_sigma**2), -1))\n",
    "#     return beta_cross_entropy + kl_div"
   ]
  },
  {
   "cell_type": "code",
   "execution_count": 6,
   "metadata": {},
   "outputs": [],
   "source": [
    "def plot_loss(loss):\n",
    "    epoch = len(loss)\n",
    "    plt.plot(1+np.arange(epoch), loss, marker='o', color='red')\n",
    "    plt.ylim(bottom=0)\n",
    "    plt.title('ELBO Loss during training')\n",
    "    plt.xlabel('Epoch')\n",
    "    plt.ylabel('ELBO Loss')\n",
    "    plt.grid()"
   ]
  },
  {
   "cell_type": "code",
   "execution_count": 7,
   "metadata": {},
   "outputs": [],
   "source": [
    "cat_feature_idx=[i for i in range(43,56)]\n",
    "# cat_mask=torch.zeros(X_train.size(1), dtype=torch.bool)\n",
    "# cat_mask[cat_feature_idx]=True\n",
    "# cont_mask=~cat_mask\n",
    "\n",
    "# cat_data=X_train[:,cat_mask]\n",
    "# cont_data=X_train[:,cont_mask]"
   ]
  },
  {
   "cell_type": "code",
   "execution_count": 8,
   "metadata": {},
   "outputs": [],
   "source": [
    "batch_size = 64\n",
    "train_dataset = torch.utils.data.TensorDataset(X_train)\n",
    "train_loader = torch.utils.data.DataLoader(train_dataset, batch_size = batch_size, shuffle = True)"
   ]
  },
  {
   "cell_type": "code",
   "execution_count": 9,
   "metadata": {},
   "outputs": [
    {
     "data": {
      "image/png": "[encoded data removed]",
      "text/plain": [
       "<Figure size 1000x400 with 1 Axes>"
      ]
     },
     "metadata": {},
     "output_type": "display_data"
    },
    {
     "name": "stdout",
     "output_type": "stream",
     "text": [
      "Epoch [40/40], ELBO Loss: 5.0813\n"
     ]
    }
   ],
   "source": [
    "vae3=VAE3(latent_dim=40, in_out_dim=X_train.shape[1], hidden_dim=400)\n",
    "optimizer=optim.Adam(vae3.parameters(), lr=1e-5)\n",
    "beta_losses=[]\n",
    "epochs=40\n",
    "\n",
    "for epoch in range(epochs):\n",
    "    vae3.train()\n",
    "    for data in train_loader:\n",
    "        data=data[0]\n",
    "        optimizer.zero_grad()\n",
    "        recon, mu, sigma=vae3(data)\n",
    "        loss=combo_elbo(recon, data, mu, sigma, cat_feature_indicies=cat_feature_idx)\n",
    "        # loss=beta_elbow(recon, data, mu, sigma)\n",
    "        loss.backward()\n",
    "        optimizer.step()\n",
    "    beta_losses.append(loss.item())\n",
    "\n",
    "    clear_output(wait=True)\n",
    "    plt.figure(figsize=(10,4))\n",
    "    plot_loss(beta_losses)\n",
    "    plt.xlim(right=40)\n",
    "    plt.show()\n",
    "\n",
    "    print(f'Epoch [{epoch + 1}/{40}], ELBO Loss: {loss.item():.4f}')\n"
   ]
  }
 ],
 "metadata": {
  "kernelspec": {
   "display_name": "Python 3",
   "language": "python",
   "name": "python3"
  },
  "language_info": {
   "codemirror_mode": {
    "name": "ipython",
    "version": 3
   },
   "file_extension": ".py",
   "mimetype": "text/x-python",
   "name": "python",
   "nbconvert_exporter": "python",
   "pygments_lexer": "ipython3",
   "version": "3.11.9"
  },
  "orig_nbformat": 4
 },
 "nbformat": 4,
 "nbformat_minor": 2
}
